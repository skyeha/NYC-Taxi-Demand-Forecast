{
 "cells": [
  {
   "cell_type": "code",
   "execution_count": 44,
   "metadata": {},
   "outputs": [],
   "source": [
    "# Importing necessary libraries\n",
    "from pyspark.sql import SparkSession\n",
    "from pyspark.sql import functions as F\n",
    "import re\n",
    "import geopandas as gpd\n",
    "import pandas as pd\n",
    "import matplotlib.pyplot as plt\n",
    "import seaborn as sns\n",
    "import folium\n",
    "# import contextily as cx\n",
    "import branca.colormap as cm"
   ]
  },
  {
   "cell_type": "code",
   "execution_count": 45,
   "metadata": {},
   "outputs": [],
   "source": [
    "# Start a SparkSessions\n",
    "spark = (\n",
    "    SparkSession.builder.appName(\"MAST30034 Project 1 Data Preprocessing\")\n",
    "    .config(\"spark.sql.repl.eagerEval.enabled\", True)\n",
    "    .config(\"spark.sql.parquet.cacheMetadata\", \"true\")\n",
    "    .config(\"spark.sql.session.timeZone\", \"Etc/UTC\")\n",
    "    .config('spark.driver.memory', '4g')\n",
    "    .config('spark.executor.memory', '2g')\n",
    "    .getOrCreate()\n",
    ")\n",
    "\n",
    "spark.sparkContext.setLogLevel(\"ERROR\")"
   ]
  },
  {
   "cell_type": "markdown",
   "metadata": {},
   "source": [
    "# Data Preprocessing"
   ]
  },
  {
   "cell_type": "markdown",
   "metadata": {},
   "source": [
    "According to the information, provided by NYC TLC on [taxi fare](!https://home.nyc.gov/site/tlc/passengers/taxi-fare.page), the latest update on fare was December 19, 2022. Though, the last updated dates for the dictionaries of trip records for green and yellow taxis were all prior to this update. Thus, we will be using the dictionaries as a guideline for what each field represents. However, any specificiation on money-related charges in the dictionaries that are not consistent with the taxi fare information will be changed.\n",
    "\n",
    "The data pre-processing stage is based on Tan's approach in MAST30034 2022 Sample Solution. We then add additional steps on top of this approach so that the data aligns better to our research goal."
   ]
  },
  {
   "cell_type": "markdown",
   "metadata": {},
   "source": [
    "## TLC Data"
   ]
  },
  {
   "cell_type": "code",
   "execution_count": 47,
   "metadata": {},
   "outputs": [],
   "source": [
    "from pyspark.sql.types import DoubleType\n",
    "\n",
    "def basic_data_cleaning(df, service):\n",
    "    \"\"\"\n",
    "        This function performance basic data cleaning (i.e. removing null or inconsistent entries) accordingly with the dictionary provided for the dataset\n",
    "            \"VendorID\": 2 vendors - 1: Creative Mobile Technologes, LLC ; 2: VeriFone Inc.\n",
    "            \"tpep_pickup_datetime\", \"tpep_dropoff_datetime\": Ensure data entries are within the specified range when download the data and trip duration not negative\n",
    "            \"passenger_count\": Passenger count should be > 0\n",
    "            \"trip_distance\": Distance must be > 0.5 miles\n",
    "            \"RatecodeID\": Numeric code ranging from 1-6\n",
    "            \"store_and_fwd_flag\": 2 code Y-N\n",
    "            \"PULocationID\", \"DOLocationID\": Numeric code ranging from from 1-263\n",
    "            \"payment_type\": Numeric code ranging from 1-6\n",
    "            \"extra\": Minumum $0.00\n",
    "            \"mta_tax\": $0.00 for trips ended at EWC or $0.50 for trips end in NYC\n",
    "            \"tips_amount\", \"tolls_amount\", \"congestion_surcharge\": Minimum $0.00\n",
    "            \"total_amount\": Minimum $3.00\n",
    "            \"improvement_surcharge\": fixed charge $1.00\n",
    "            \"airport_fee\": $1.75 for pick up only at LGA and JFK Airports\n",
    "    \"\"\"\n",
    "    intial_entries_count = df.count()\n",
    "    print(f\"Starting number of entries: {intial_entries_count}\")\n",
    "\n",
    "    if service == \"green\":\n",
    "    # For green trip records only. \"ehail_fee\" is always NULL (), thus we're removing that column as it has no valuable meaning\n",
    "        df = df.drop(F.col(\"ehail_fee\"))\n",
    "        df = df.drop(F.col(\"trip_type\"))\n",
    "        df = df.withColumn(\"airport_fee\", F.lit(0.00).cast(DoubleType())) # add this column so that both dataset has conformable format for merging\n",
    "        df = df.withColumn(\"taxi_type\", F.lit(2))\n",
    "    elif service ==\"yellow\":\n",
    "        df = df.withColumnRenamed(\"Airport_fee\", \"airport_fee\")    \n",
    "        df = df.withColumn(\"taxi_type\", F.lit(1))\n",
    "\n",
    "    columns = df.columns\n",
    "    \n",
    "    # Renaming columns to conformable format for merging\n",
    "    for col in columns:\n",
    "        if re.search(r\"(l|t)pep_pickup_datetime\", col):\n",
    "            df = df.withColumnRenamed(col, \"pickup_datetime\")\n",
    "        elif re.search(r\"(l|t)pep_dropoff_datetime\", col):\n",
    "            df = df.withColumnRenamed(col, \"dropoff_datetime\")\n",
    "\n",
    "    # Remove entries with invalid value for VendorID\n",
    "    df = df.filter((F.col('VendorID') == 1) | (F.col('VendorID') == 2))\n",
    "\n",
    "    # Filter records that falls out of our research range and splitting datetime into month and day\n",
    "    start_date = \"2023-03-01\"\n",
    "    end_date = \"2024-05-31\"\n",
    "    df = df.filter((start_date <= F.to_date(\"pickup_datetime\")) & (F.to_date(\"pickup_datetime\") <= end_date))\n",
    "    df = df.filter((start_date <= F.to_date(\"dropoff_datetime\")) & (F.to_date(\"dropoff_datetime\") <= end_date))\n",
    "\n",
    "    # Remove entries with negative trip duration or less than 1 minute of travelling\n",
    "    df = df.withColumn(\"trip_duration\", (F.unix_timestamp(F.col(\"dropoff_datetime\")) - F.unix_timestamp(F.col(\"pickup_datetime\")))/60)\n",
    "    df = df.withColumn(\"trip_duration\",F.round(F.col(\"trip_duration\"),2))\n",
    "    df = df.filter(F.col('trip_duration') >= 1)\n",
    "\n",
    "    # Remove entries with invalid passenger count\n",
    "    df = df.filter((F.col('passenger_count') > 0) & (F.col('passenger_count').isNotNull()))\n",
    "\n",
    "    # Remove entries with < 0.5 mile trip distance. Assuming passenger would rather walk the distance\n",
    "    df = df.filter(F.col('trip_distance') >= 0.5)\n",
    "    \n",
    "    # Remove entries with invalid RatecodeID\n",
    "    df = df.filter((F.col(\"RatecodeID\") == 1) | (F.col(\"RatecodeID\") == 2) |\n",
    "                   (F.col(\"RatecodeID\") == 3) | (F.col(\"RatecodeID\") == 4) |\n",
    "                   (F.col(\"RatecodeID\") == 5) | (F.col(\"RatecodeID\") == 6))\n",
    "    \n",
    "    # Remove entries with invalid store_and_fwd_flag value\n",
    "    df = df.filter((F.col(\"store_and_fwd_flag\") == \"Y\") | (F.col(\"store_and_fwd_flag\") == \"N\"))\n",
    "\n",
    "    # Remove entries with invalid PULocationID and DOLocationID\n",
    "    df = df.filter(((1 <= F.col(\"PULocationID\")) & (F.col(\"PULocationID\") <= 263) & (F.col(\"PULocationID\").isNotNull())) &\n",
    "                   ((1 <= F.col(\"DOLocationID\")) & (F.col(\"DOLocationID\") <= 263) & (F.col(\"PULocationID\").isNotNull())))\n",
    "    \n",
    "    # Remove entries with invalid payment type\n",
    "    df = df.filter((F.col(\"payment_type\") == 1) | (F.col(\"payment_type\") == 2) |\n",
    "                   (F.col(\"payment_type\") == 3) | (F.col(\"payment_type\") == 4) |\n",
    "                   (F.col(\"payment_type\") == 5) | (F.col(\"payment_type\") == 6))\n",
    "\n",
    "    # Remove entries with negative value for \"extra\" as the minimum is $0.00\n",
    "    df = df.filter(F.col(\"extra\") >= 0)\n",
    "\n",
    "    # Remove entries with inconsistent values for \"mta_tax\"\n",
    "    df = df.filter(\n",
    "        ((F.col('mta_tax') == 0.0 ) & (F.col('DOLocationID') == 1)) |\n",
    "        ((F.col('mta_tax') == 0.5) & (F.col('DOLocationID') != 1)) \n",
    "    )\n",
    "\n",
    "    # Remove entries with negative values in \"tip_amount\", \"tolls_amount\", \"congestion_surcharge\"\n",
    "    df = df.filter((F.col(\"tip_amount\") >= 0) &\n",
    "                   (F.col(\"tolls_amount\") >= 0) &\n",
    "                   (F.col(\"congestion_surcharge\") >= 0))\n",
    "    \n",
    "    # Remove entries with < $3.00 total amount\n",
    "    df = df.filter(F.col(\"total_amount\") >= 3.00)\n",
    "\n",
    "    # Remove entries with \"improvement_surcharge\" != $1.00 as this field value is always $1.00\n",
    "    df = df.filter(F.col(\"improvement_surcharge\") == 1)\n",
    "\n",
    "    # Remove entries with airport fee different from $0.00 or $1.75\n",
    "    df = df.filter((F.col(\"airport_fee\") == 0) | (F.col(\"airport_fee\") == 1.75))\n",
    "\n",
    "    final_entries_count = df.count()\n",
    "    percentage_removed = round(((intial_entries_count - final_entries_count)/intial_entries_count) * 100, 2)\n",
    "    print(f\"Removed {intial_entries_count - final_entries_count} ({percentage_removed}) \\nRemaining entries: {final_entries_count}\" )\n",
    "    return df\n"
   ]
  },
  {
   "cell_type": "markdown",
   "metadata": {},
   "source": [
    "### Cleaning yellow trips records"
   ]
  },
  {
   "cell_type": "code",
   "execution_count": 51,
   "metadata": {},
   "outputs": [],
   "source": [
    "# Yellow data\n",
    "yellow_df = spark.read.parquet(\"../data/raw/yellow\")\n",
    "initial_rows = yellow_df.count()"
   ]
  },
  {
   "cell_type": "code",
   "execution_count": 52,
   "metadata": {},
   "outputs": [
    {
     "name": "stdout",
     "output_type": "stream",
     "text": [
      "Starting number of entries: 49122405\n"
     ]
    },
    {
     "name": "stderr",
     "output_type": "stream",
     "text": [
      "[Stage 192:=========================>                            (10 + 11) / 21]\r"
     ]
    },
    {
     "name": "stdout",
     "output_type": "stream",
     "text": [
      "Removed 7446157 (15.16) \n",
      "Remaining entries: 41676248\n"
     ]
    },
    {
     "name": "stderr",
     "output_type": "stream",
     "text": [
      "                                                                                \r"
     ]
    }
   ],
   "source": [
    "# Clean yellow_df\n",
    "yellow_df = basic_data_cleaning(yellow_df, \"yellow\")"
   ]
  },
  {
   "cell_type": "markdown",
   "metadata": {},
   "source": [
    "Splitting into train and test data"
   ]
  },
  {
   "cell_type": "code",
   "execution_count": 53,
   "metadata": {},
   "outputs": [],
   "source": [
    "# Train data\n",
    "yellow_train = yellow_df.filter((( \"2023-03-01\" <= F.to_date(F.col('pickup_datetime'))) & (F.to_date(F.col('pickup_datetime')) <= \"2024-02-29\" )) &\n",
    "                                (( \"2023-03-01\" <= F.to_date(F.col('dropoff_datetime'))) & (F.to_date(F.col('dropoff_datetime')) <= \"2024-02-29\" )))\n",
    "\n",
    "# Test data\n",
    "yellow_test = yellow_df.filter((( \"2024-03-01\" <= F.to_date(F.col('pickup_datetime'))) & (F.to_date(F.col('pickup_datetime')) <= \"2024-05-31\" )) &\n",
    "                                (( \"2024-03-01\" <= F.to_date(F.col('dropoff_datetime'))) & (F.to_date(F.col('dropoff_datetime')) <= \"2024-05-31\" )))"
   ]
  },
  {
   "cell_type": "markdown",
   "metadata": {},
   "source": [
    "### Cleaning green trips records"
   ]
  },
  {
   "cell_type": "code",
   "execution_count": 54,
   "metadata": {},
   "outputs": [],
   "source": [
    "# Loading green data\n",
    "green_df = spark.read.parquet(\"../data/raw/green\")\n",
    "initial_rows = initial_rows + green_df.count()"
   ]
  },
  {
   "cell_type": "code",
   "execution_count": 55,
   "metadata": {},
   "outputs": [
    {
     "name": "stdout",
     "output_type": "stream",
     "text": [
      "Starting number of entries: 939099\n",
      "Removed 260906 (27.78) \n",
      "Remaining entries: 678193\n"
     ]
    }
   ],
   "source": [
    "green_df = basic_data_cleaning(green_df, \"green\")"
   ]
  },
  {
   "cell_type": "markdown",
   "metadata": {},
   "source": [
    "Splitting into train and test data"
   ]
  },
  {
   "cell_type": "code",
   "execution_count": 57,
   "metadata": {},
   "outputs": [],
   "source": [
    "# Train data\n",
    "green_train = green_df.filter((( \"2023-03-01\" <= F.to_date(F.col('pickup_datetime'))) & (F.to_date(F.col('pickup_datetime')) <= \"2024-02-29\" )) &\n",
    "                                (( \"2023-03-01\" <= F.to_date(F.col('dropoff_datetime'))) & (F.to_date(F.col('dropoff_datetime')) <= \"2024-02-29\" )))\n",
    "\n",
    "# Test data\n",
    "green_test = green_df.filter((( \"2024-03-01\" <= F.to_date(F.col('pickup_datetime'))) & (F.to_date(F.col('pickup_datetime')) <= \"2024-05-31\" )) &\n",
    "                                (( \"2024-03-01\" <= F.to_date(F.col('dropoff_datetime'))) & (F.to_date(F.col('dropoff_datetime')) <= \"2024-05-31\" )))"
   ]
  },
  {
   "cell_type": "markdown",
   "metadata": {},
   "source": [
    "## Outlier Detection"
   ]
  },
  {
   "cell_type": "markdown",
   "metadata": {},
   "source": [
    "For outlier detection, we will use a modified version of **Winsorizing** method which we will remove values that are above or below certain percentiles. The reason we're using it is because this method is efficient upon large dataset whereas methods such as IQR is not effective for dataset of this size. This is due to IQR assuming an underlying symmetric distribution, upon skewed distribution, the IQR is heavily affected by extremely large or small values, thus removing a lot of entries from our data"
   ]
  },
  {
   "cell_type": "code",
   "execution_count": 58,
   "metadata": {},
   "outputs": [],
   "source": [
    "def outlier_filter(df, columns, lower, upper):\n",
    "    initial_rows = df.count()\n",
    "\n",
    "    for col in columns:\n",
    "        lower_bound = df.select(F.percentile_approx(F.col(col), lower)).first()[0]\n",
    "        upper_bound = df.select(F.percentile_approx(F.col(col), upper)).first()[0]\n",
    "\n",
    "        df = df.filter((lower_bound <= F.col(col)) & (F.col(col) <= upper_bound))\n",
    "\n",
    "    final_rows = df.count()\n",
    "    row_diff = initial_rows - final_rows\n",
    "    print(f\"Starting number of entries: {initial_rows}\")\n",
    "    print(f\"Removed: {row_diff} ({round((row_diff/initial_rows) * 100,2)})\\nRemaining rows: {final_rows}\")\n",
    "\n",
    "    # pd_sample_df = df.sample(fraction=0.05, seed=42).select(*columns).toPandas()\n",
    "    return df #, pd_sample_df"
   ]
  },
  {
   "cell_type": "markdown",
   "metadata": {},
   "source": [
    "Applied outlier detection on all dataset"
   ]
  },
  {
   "cell_type": "code",
   "execution_count": 59,
   "metadata": {},
   "outputs": [
    {
     "name": "stderr",
     "output_type": "stream",
     "text": [
      "[Stage 228:=========================================>             (16 + 5) / 21]\r"
     ]
    },
    {
     "name": "stdout",
     "output_type": "stream",
     "text": [
      "Starting number of entries: 33058506\n",
      "Removed: 1845899 (5.58)\n",
      "Remaining rows: 31212607\n"
     ]
    },
    {
     "name": "stderr",
     "output_type": "stream",
     "text": [
      "                                                                                \r"
     ]
    }
   ],
   "source": [
    "yellow_train = outlier_filter(yellow_train, [\"trip_distance\", \"total_amount\", \"trip_duration\"], 0.01, 0.99)"
   ]
  },
  {
   "cell_type": "code",
   "execution_count": 60,
   "metadata": {},
   "outputs": [
    {
     "name": "stderr",
     "output_type": "stream",
     "text": [
      "[Stage 252:====================================================>  (20 + 1) / 21]\r"
     ]
    },
    {
     "name": "stdout",
     "output_type": "stream",
     "text": [
      "Starting number of entries: 8616729\n",
      "Removed: 478344 (5.55)\n",
      "Remaining rows: 8138385\n"
     ]
    },
    {
     "name": "stderr",
     "output_type": "stream",
     "text": [
      "                                                                                \r"
     ]
    }
   ],
   "source": [
    "yellow_test = outlier_filter(yellow_test, [\"trip_distance\", \"total_amount\", \"trip_duration\"], 0.01, 0.99)"
   ]
  },
  {
   "cell_type": "code",
   "execution_count": 61,
   "metadata": {},
   "outputs": [
    {
     "name": "stderr",
     "output_type": "stream",
     "text": [
      "                                                                                \r"
     ]
    },
    {
     "name": "stdout",
     "output_type": "stream",
     "text": [
      "Starting number of entries: 547309\n",
      "Removed: 32238 (5.89)\n",
      "Remaining rows: 515071\n"
     ]
    }
   ],
   "source": [
    "green_train = outlier_filter(green_train, [\"trip_distance\", \"trip_duration\", \"total_amount\"], 0.01, 0.99)"
   ]
  },
  {
   "cell_type": "code",
   "execution_count": 62,
   "metadata": {},
   "outputs": [
    {
     "name": "stderr",
     "output_type": "stream",
     "text": [
      "                                                                                \r"
     ]
    },
    {
     "name": "stdout",
     "output_type": "stream",
     "text": [
      "Starting number of entries: 130874\n",
      "Removed: 7515 (5.74)\n",
      "Remaining rows: 123359\n"
     ]
    },
    {
     "name": "stderr",
     "output_type": "stream",
     "text": [
      "                                                                                \r"
     ]
    }
   ],
   "source": [
    "green_test = outlier_filter(green_test, [\"trip_distance\", \"trip_duration\", \"total_amount\"], 0.01, 0.99)"
   ]
  },
  {
   "cell_type": "code",
   "execution_count": 65,
   "metadata": {},
   "outputs": [
    {
     "name": "stdout",
     "output_type": "stream",
     "text": [
      "Number of rows before data preprocessing: 50061504\n"
     ]
    },
    {
     "name": "stderr",
     "output_type": "stream",
     "text": [
      "                                                                                \r"
     ]
    },
    {
     "name": "stdout",
     "output_type": "stream",
     "text": [
      "Number of rows after data preprocessing: 39989422\n"
     ]
    }
   ],
   "source": [
    "print(f\"Number of rows before data preprocessing: {initial_rows}\")\n",
    "print(f\"Number of rows after data preprocessing: {yellow_test.count() + yellow_train.count() + green_test.count() + green_train.count()}\")"
   ]
  },
  {
   "cell_type": "markdown",
   "metadata": {},
   "source": [
    "# Feature Engineering"
   ]
  },
  {
   "cell_type": "markdown",
   "metadata": {},
   "source": [
    "Since we suspect that there is a seasonal effect on taxi demands, we will generate another feature that indicate which season the entries belong to\n",
    "```{python}\n",
    "season = {1: \"Spring\", 2: \"Summer\", 3: \"Fall\", 4: \"Winter}\n",
    "``` \n",
    "\n",
    "We will also split the columns `pickup_datetime` and  into `month` and  `day` (though, we not sure if `day` is going to be use, but we split it for now)\n",
    "\n"
   ]
  },
  {
   "cell_type": "code",
   "execution_count": 66,
   "metadata": {},
   "outputs": [],
   "source": [
    "def season_assign(col):\n",
    "    \"\"\"\n",
    "        Assign season to entries\n",
    "    \"\"\"\n",
    "    col = F.month(col)\n",
    "    return (F.when((col == 3) | (col == 4) | (col == 5), 1)\\\n",
    "        .when((col == 6) | (col == 7) | (col == 8), 2)\\\n",
    "        .when((col == 9) | (col == 10) | (col == 11), 3)\\\n",
    "        .when((col == 12) | (col == 1) | (col == 2),4))\n",
    "\n",
    "def transform_datetime(df):\n",
    "    \"\"\"\n",
    "        This function take a column with datetime formate and split them into 3 columns\n",
    "            `pickup_month`, `pickup_date`, and `pickup_time`\n",
    "        The function will also add 2 extra columns, indicating the season when the ride took place and if it's a weekday or not\n",
    "            `weekday`, `season`\n",
    "        The function will also drop off 2 columns\n",
    "            `pickup_datetime` and `dropoff_datetime`\n",
    "        and rearrange the columns for a better view\n",
    "    \"\"\"\n",
    "    df = df.withColumns({\"pickup_month\": F.month(F.col(\"pickup_datetime\")), \n",
    "                       \"pickup_day\": F.day(F.col(\"pickup_datetime\")), \n",
    "                       \"pickup_time\": F.date_format(F.col(\"pickup_datetime\"), \"HH:mm:ss\"),\n",
    "                       \"season\": season_assign(F.col(\"pickup_datetime\"))\n",
    "                       })\n",
    "    df = df.drop(\"pickup_datetime\",\"dropoff_datetime\")\n",
    "\n",
    "    ordered_columns = [\"VendorID\", \"season\",\"pickup_month\", \"pickup_day\",\"pickup_time\", \"taxi_type\",\n",
    "                   \"trip_duration\", \"trip_distance\", \"RatecodeID\", \"store_and_fwd_flag\", \"PULocationID\",\n",
    "                   \"DOLocationID\", \"payment_type\", \"fare_amount\", \"extra\", \"mta_tax\", \"tip_amount\",\n",
    "                   \"tolls_amount\", \"improvement_surcharge\", \"congestion_surcharge\",\"airport_fee\", \"total_amount\"]\n",
    "\n",
    "    df = df.select(*ordered_columns)\n",
    "\n",
    "    return df\n",
    "    "
   ]
  },
  {
   "cell_type": "markdown",
   "metadata": {},
   "source": [
    "Apply the feature engineering across all dataset"
   ]
  },
  {
   "cell_type": "code",
   "execution_count": 67,
   "metadata": {},
   "outputs": [],
   "source": [
    "yellow_train = transform_datetime(yellow_train)"
   ]
  },
  {
   "cell_type": "code",
   "execution_count": 68,
   "metadata": {},
   "outputs": [],
   "source": [
    "yellow_test = transform_datetime(yellow_test)"
   ]
  },
  {
   "cell_type": "code",
   "execution_count": 69,
   "metadata": {},
   "outputs": [],
   "source": [
    "green_train = transform_datetime(green_train)"
   ]
  },
  {
   "cell_type": "code",
   "execution_count": 70,
   "metadata": {},
   "outputs": [],
   "source": [
    "green_test = transform_datetime(green_test)"
   ]
  },
  {
   "cell_type": "markdown",
   "metadata": {},
   "source": [
    "We assume that the type of taxi does not help us predict monthly demands. Thus we will merge datasets for both taxi type together."
   ]
  },
  {
   "cell_type": "code",
   "execution_count": 71,
   "metadata": {},
   "outputs": [],
   "source": [
    "# Merging train data\n",
    "df_train = yellow_train.union(green_train)\n",
    "df_train = df_train.withColumnRenamed(\"pickup_month\", \"month\")"
   ]
  },
  {
   "cell_type": "code",
   "execution_count": 72,
   "metadata": {},
   "outputs": [],
   "source": [
    "# Merging test data\n",
    "df_test = yellow_test.union(green_test)\n",
    "df_test = df_test.withColumnRenamed(\"pickup_month\", \"month\")"
   ]
  },
  {
   "cell_type": "markdown",
   "metadata": {},
   "source": [
    "We will also merge the trip record data with the weather and unemployment rate data"
   ]
  },
  {
   "cell_type": "code",
   "execution_count": 73,
   "metadata": {},
   "outputs": [],
   "source": [
    "# Reading train and test data of external data\n",
    "weather_train = spark.read.parquet(\"../data/curated/weather_train\")\n",
    "weather_test = spark.read.parquet(\"../data/curated/weather_test\")\n",
    "\n",
    "unemp_train = spark.read.parquet(\"../data/curated/unemp_train.parquet\")\n",
    "unemp_train = unemp_train.withColumnsRenamed({\"Label\": \"month\",\n",
    "                                  \"Value\": \"unemp_rate\"})\n",
    "\n",
    "unemp_test = spark.read.parquet(\"../data/curated/unemp_test.parquet\")\n",
    "unemp_test = unemp_test.withColumnsRenamed({\"Label\": \"month\",\n",
    "                                  \"Value\": \"unemp_rate\"})"
   ]
  },
  {
   "cell_type": "code",
   "execution_count": 74,
   "metadata": {},
   "outputs": [],
   "source": [
    "# Join the train data\n",
    "df_train = df_train.join(weather_train, on=\"month\", how=\"inner\")\n",
    "df_train = df_train.join(unemp_train, on=\"month\", how = \"inner\")"
   ]
  },
  {
   "cell_type": "code",
   "execution_count": 75,
   "metadata": {},
   "outputs": [],
   "source": [
    "# Join the test data\n",
    "df_test = df_test.join(weather_test, on=\"month\", how=\"inner\")\n",
    "df_test = df_test.join(unemp_test, on=\"month\", how = \"inner\")"
   ]
  },
  {
   "cell_type": "markdown",
   "metadata": {},
   "source": [
    "We assume that all fees-related column are capture inside the `total_fare`. Thus, we will drop the other fees-related column as well as other columns that are trip specific such as `store_and_fwd_flag`. Since we only care about trip demands, we don't need the dropoff location as it doesn't influence the taxi demands. Thus we will only use the pickup location ID and remove the dropoff location."
   ]
  },
  {
   "cell_type": "code",
   "execution_count": 78,
   "metadata": {},
   "outputs": [],
   "source": [
    "# Drop unnecessary columns in training data\n",
    "df_train = df_train.drop(\"taxi_type\", \"RatecodeID\", \"DOLocationID\", \"store_and_fwd_flag\",\n",
    "             \"payment_type\", \"fare_amount\", \"extra\", \"mta_tax\", \"tip_amount\",\n",
    "             \"tolls_amount\", \"improvement_surcharge\", \"congestion_surcharge\",\n",
    "             \"airport_fee\")"
   ]
  },
  {
   "cell_type": "code",
   "execution_count": 79,
   "metadata": {},
   "outputs": [],
   "source": [
    "# Drop unnecessary columns in test data\n",
    "df_test = df_test.drop(\"taxi_type\", \"RatecodeID\", \"DOLocationID\", \"store_and_fwd_flag\",\n",
    "             \"payment_type\", \"fare_amount\", \"extra\", \"mta_tax\", \"tip_amount\",\n",
    "             \"tolls_amount\", \"improvement_surcharge\", \"congestion_surcharge\",\n",
    "             \"airport_fee\")"
   ]
  },
  {
   "cell_type": "markdown",
   "metadata": {},
   "source": [
    "It's also important to have a look as the distribution of our numerical feature such as `total_amount`, `trip_distance`, and `trip_location`. As plotting the full data is not ideal, we will use stratified sampling to sample the data whilst keeping the represtation of each subgroup in the data. The subgroup are grouped by location, season, and month."
   ]
  },
  {
   "cell_type": "code",
   "execution_count": 81,
   "metadata": {},
   "outputs": [
    {
     "name": "stderr",
     "output_type": "stream",
     "text": [
      "                                                                                \r"
     ]
    }
   ],
   "source": [
    "# Create a key column that combined the location, season, and month and later on use as key to represent the subgroup\n",
    "# The aid of ChatGPT was use to help create the key for the subgroup\n",
    "strat_df = df_train.withColumn(\"key\", F.concat_ws(\"_\", df_train['PULocationID'], \n",
    "                                 df_train['season'], df_train['month']))\n",
    "\n",
    "# If subgroup have less than 100 entries, we wil use all of it. Otherwise, the rest are sample at 5% rate\n",
    "group_count  = strat_df.groupBy(\"key\").count()\n",
    "group_count = group_count.select(\"key\", \"count\").distinct().rdd\\\n",
    "    .map(lambda x: (x[0], x[1])).collectAsMap()\n",
    "\n",
    "fractions = {key: 1\n",
    "             if group_count[key] < 100 else 0.05\n",
    "             for key in group_count}\n",
    "\n",
    "# Get the sample\n",
    "sample = strat_df.sampleBy(\"key\", fractions=fractions, seed = 42)\n",
    "sample = sample.drop(\"key\")"
   ]
  },
  {
   "cell_type": "code",
   "execution_count": 82,
   "metadata": {},
   "outputs": [
    {
     "name": "stderr",
     "output_type": "stream",
     "text": [
      "                                                                                \r"
     ]
    }
   ],
   "source": [
    "# Convert to pandas dataframe for visualisation\n",
    "sample_pd = sample.toPandas()"
   ]
  },
  {
   "cell_type": "code",
   "execution_count": 83,
   "metadata": {},
   "outputs": [
    {
     "data": {
      "image/png": "[encoded data removed]",
      "text/plain": [
       "<Figure size 1224x864 with 6 Axes>"
      ]
     },
     "metadata": {
      "needs_background": "light"
     },
     "output_type": "display_data"
    }
   ],
   "source": [
    "import numpy as np\n",
    "\n",
    "fig, axs = plt.subplots(nrows=2, ncols=3, figsize=(17,12))\n",
    "\n",
    "axs[0][0].hist(sample_pd['total_amount'], bins=50, edgecolor='black')\n",
    "axs[0][0].set_title('Distribution of total amount')\n",
    "axs[0][0].set_xlabel('Dollars ($)')\n",
    "axs[0][0].set_ylabel('Frequency')\n",
    "\n",
    "axs[0][1].hist(sample_pd['trip_distance'], bins=50, edgecolor='black')\n",
    "axs[0][1].set_title('Distribution of trip distance')\n",
    "axs[0][1].set_xlabel('Miles')\n",
    "axs[0][1].set_ylabel('Frequency')\n",
    "\n",
    "axs[0][2].hist(sample_pd['trip_duration'], bins=50, edgecolor='black')\n",
    "axs[0][2].set_title('Distribution of trip_duration')\n",
    "axs[0][2].set_xlabel('Minutes')\n",
    "axs[0][2].set_ylabel('Frequency')\n",
    "\n",
    "axs[1][0].hist(np.log(sample_pd['total_amount']), bins=50, edgecolor='black')\n",
    "axs[1][0].set_title('Distribution of total amount')\n",
    "axs[1][0].set_xlabel('Dollars ($)')\n",
    "axs[1][0].set_ylabel('Frequency')\n",
    "\n",
    "axs[1][1].hist(np.log(sample_pd['trip_distance']), bins=50, edgecolor='black')\n",
    "axs[1][1].set_title('Distribution of trip distance')\n",
    "axs[1][1].set_xlabel('Miles')\n",
    "axs[1][1].set_ylabel('Frequency')\n",
    "\n",
    "axs[1][2].hist((np.log(sample_pd['trip_duration'])), bins=50, edgecolor='black')\n",
    "axs[1][2].set_title('Distribution of trip_duration')\n",
    "axs[1][2].set_xlabel('Minutes')\n",
    "axs[1][2].set_ylabel('Frequency')\n",
    "\n",
    "plt.show()"
   ]
  },
  {
   "cell_type": "markdown",
   "metadata": {},
   "source": [
    "From the plot above, it's vivid that the 3 features are heavily skewed and after applying log-transformation to the columns, it's look better. Thus, we will apply log-transformation to the both the test and train data\n"
   ]
  },
  {
   "cell_type": "code",
   "execution_count": 84,
   "metadata": {},
   "outputs": [],
   "source": [
    "# Applying log to the designated columns\n",
    "df_train = df_train.withColumns({\"trip_duration\": F.log(F.col(\"trip_duration\")),\n",
    "                \"trip_distance\": F.log(F.col(\"trip_distance\")),\n",
    "                \"total_amount\": F.log(F.col(\"total_amount\"))})\n",
    "\n",
    "df_train = df_train.withColumnsRenamed({\n",
    "    \"trip_duration\": \"log_duration\",\n",
    "    \"trip_distance\": \"log_distance\",\n",
    "    \"total_amount\": \"log_amount\"\n",
    "})\n",
    "\n",
    "df_test = df_test.withColumns({\"trip_duration\": F.log(F.col(\"trip_duration\")),\n",
    "                \"trip_distance\": F.log(F.col(\"trip_distance\")),\n",
    "                \"total_amount\": F.log(F.col(\"total_amount\"))})\n",
    "\n",
    "df_test = df_test.withColumnsRenamed({\n",
    "    \"trip_duration\": \"log_duration\",\n",
    "    \"trip_distance\": \"log_distance\",\n",
    "    \"total_amount\": \"log_amount\"\n",
    "})\n",
    "\n",
    "# Apply log to the designated columns in the sample\n",
    "for col in ['total_amount', 'trip_duration', 'trip_distance']:\n",
    "    sample_pd[col] = np.log(sample_pd[col])\n",
    "\n",
    "sample_pd = sample_pd.rename({\"trip_duration\": \"log_duration\",\n",
    "    \"trip_distance\": \"log_distance\",\n",
    "    \"total_amount\": \"log_amount\"}, axis=1)"
   ]
  },
  {
   "cell_type": "markdown",
   "metadata": {},
   "source": [
    "# Export curated data"
   ]
  },
  {
   "cell_type": "markdown",
   "metadata": {},
   "source": [
    "We stored the dataset and the sampled data to curated folder for data analysis or visualisation"
   ]
  },
  {
   "cell_type": "code",
   "execution_count": 86,
   "metadata": {},
   "outputs": [
    {
     "name": "stderr",
     "output_type": "stream",
     "text": [
      "                                                                                \r"
     ]
    }
   ],
   "source": [
    "df_train.write.parquet(\"../data/curated/trip_records_train\")\n",
    "df_test.write.parquet(\"../data/curated/trip_records_test\")\n",
    "sample_pd.to_csv(\"../data/curated/sample.csv\", index=False)"
   ]
  }
 ],
 "metadata": {
  "kernelspec": {
   "display_name": "Python 3",
   "language": "python",
   "name": "python3"
  },
  "language_info": {
   "codemirror_mode": {
    "name": "ipython",
    "version": 3
   },
   "file_extension": ".py",
   "mimetype": "text/x-python",
   "name": "python",
   "nbconvert_exporter": "python",
   "pygments_lexer": "ipython3",
   "version": "3.8.10"
  }
 },
 "nbformat": 4,
 "nbformat_minor": 2
}
